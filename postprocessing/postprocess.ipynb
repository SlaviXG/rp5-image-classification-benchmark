{
 "cells": [
  {
   "cell_type": "code",
   "execution_count": 3,
   "id": "d7cf461e-e0b1-46c7-8ff7-c451b6df2838",
   "metadata": {},
   "outputs": [],
   "source": [
    "import os\n",
    "import pandas as pd\n",
    "import json\n",
    "import re"
   ]
  },
  {
   "cell_type": "code",
   "execution_count": 4,
   "id": "5ae08a6f-0400-42cd-a3db-8e7602594037",
   "metadata": {},
   "outputs": [],
   "source": [
    "# Forms a logger data frame\n",
    "def form_logger_df(power_data_logger_file: os.path):\n",
    "    logger_df = pd.read_csv(power_data_logger_file, sep=r'\\s+')\n",
    "    logger_df = logger_df[['timestamp', 'voltage_V', 'current_A', 'temp_C_ema']]\n",
    "\n",
    "    # Ensure proper data types\n",
    "    logger_df['timestamp'] = logger_df['timestamp'].astype(float)\n",
    "    logger_df['voltage_V'] = logger_df['voltage_V'].astype(float)\n",
    "    logger_df['current_A'] = logger_df['current_A'].astype(float)\n",
    "    logger_df['temp_C_ema'] = logger_df['temp_C_ema'].astype(float)\n",
    "\n",
    "    return logger_df"
   ]
  },
  {
   "cell_type": "code",
   "execution_count": 5,
   "id": "91547f50-79a7-460e-8de9-ef21e844e88b",
   "metadata": {},
   "outputs": [],
   "source": [
    "def form_command_df(command_feedback_file: os.path):\n",
    "    # List to store each command as a dictionary\n",
    "    command_list = []\n",
    "\n",
    "    # Regular expression to match the pattern of each image result in the output\n",
    "    output_pattern = re.compile(\n",
    "        r\"Image: (?P<image_file>[^,]+), \"\n",
    "        r\"Resolution: (?P<resolution_width>\\d+)x(?P<resolution_height>\\d+), \"\n",
    "        r\"Framework: (?P<framework>[A-Z]+), \"\n",
    "        r\"Set FPS: (?P<fps>[\\d.]+), \"\n",
    "        r\"Inference time: (?P<inference_time>[\\d.]+) seconds, \"\n",
    "        r\"Predicted class: (?P<predicted_class>\\d+)\"\n",
    "    )\n",
    "    \n",
    "    # Regular expression to extract the model name from the command\n",
    "    model_pattern = re.compile(r'run_model\\.py\\s+([^\\s]+)')\n",
    "\n",
    "    # Open the file and read line by line\n",
    "    with open(command_feedback_file, 'r') as file:\n",
    "        for line in file:\n",
    "            # Parse each line as a JSON object\n",
    "            command_data = json.loads(line.strip())\n",
    "            \n",
    "            # Extract the output field and find all matches for the image data\n",
    "            output_data = command_data.get('output', '')\n",
    "            matches = output_pattern.findall(output_data)\n",
    "            \n",
    "            # Extract the model name from the command\n",
    "            model_match = model_pattern.search(command_data['command'])\n",
    "            model_name = model_match.group(1) if model_match else None\n",
    "            \n",
    "            # For each match, create a new dictionary entry with the parsed fields\n",
    "            for match in matches:\n",
    "                # Calculate the updated end_time based on the formula\n",
    "                fps = float(match[4])\n",
    "                inference_time = float(match[5])\n",
    "                start_time = float(command_data[\"start_time\"])\n",
    "                # Compute max(1/fps, inference_time)\n",
    "                time_delta = max(1/fps, inference_time)\n",
    "                # Calculate new end_time\n",
    "                new_end_time = start_time + time_delta\n",
    "\n",
    "                image_data = {\n",
    "                    \"client_id\": command_data[\"client_id\"],\n",
    "                    \"command\": command_data[\"command\"],\n",
    "                    \"model\": model_name,  # Add the model name to the dictionary\n",
    "                    \"start_time\": float(command_data[\"start_time\"]),\n",
    "                    \"new_end_time\": round(new_end_time, 3),  # Rounded to 3 decimal places (10ms precision)\n",
    "                    \"error\": command_data[\"error\"],\n",
    "                    \"image_file\": match[0],\n",
    "                    \"resolution_width\": int(match[1]),\n",
    "                    \"resolution_height\": int(match[2]),\n",
    "                    \"framework\": match[3],\n",
    "                    \"fps\": fps,\n",
    "                    \"inference_time\": inference_time,\n",
    "                    \"predicted_class\": int(match[6])\n",
    "                }\n",
    "                # Append the image data to the command list\n",
    "                command_list.append(image_data)\n",
    "    \n",
    "    # Convert the list of image data into a pandas DataFrame\n",
    "    command_df = pd.DataFrame(command_list)\n",
    "\n",
    "    # Optionally format the float display in the DataFrame with three decimal places\n",
    "    pd.options.display.float_format = '{:.3f}'.format\n",
    "\n",
    "    return command_df"
   ]
  },
  {
   "cell_type": "code",
   "execution_count": 3,
   "id": "e77de543-5e1a-4d3e-a021-939f5c5f5ce4",
   "metadata": {},
   "outputs": [],
   "source": [
    "logger_df_pt = form_logger_df('data_logger_pt.txt')\n",
    "logger_df_hailo = form_logger_df('data_logger_hailo.txt')"
   ]
  },
  {
   "cell_type": "code",
   "execution_count": 5,
   "id": "cc857639-588c-4534-8ca4-fa9b5c8d932d",
   "metadata": {},
   "outputs": [],
   "source": [
    "command_df_pt = form_command_df(\"command_feedback_pt.txt\")\n",
    "command_df_hailo = form_command_df(\"command_feedback_hailo.txt\")"
   ]
  },
  {
   "cell_type": "code",
   "execution_count": 6,
   "id": "bf57ddf2-be5a-4b70-aa7e-5da2cc2b0d65",
   "metadata": {},
   "outputs": [],
   "source": [
    "# Function to aggregate power data for each command\n",
    "def merge_and_aggregate(command_df, logger_df):\n",
    "    # Create lists to store aggregated values\n",
    "    voltage_agg = []\n",
    "    current_agg = []\n",
    "    temp_agg = []\n",
    "\n",
    "    # Iterate through each row in the command DataFrame\n",
    "    for idx, row in command_df.iterrows():\n",
    "        # Select rows from the logger DataFrame where timestamp is between start_time and new_end_time\n",
    "        mask = (logger_df['timestamp'] >= row['start_time']) & (logger_df['timestamp'] <= row['new_end_time'])\n",
    "        subset = logger_df[mask]\n",
    "\n",
    "        # If there are matching rows, aggregate their values (mean in this case)\n",
    "        if not subset.empty:\n",
    "            voltage_agg.append(subset['voltage_V'].mean())\n",
    "            current_agg.append(subset['current_A'].mean())\n",
    "            temp_agg.append(subset['temp_C_ema'].mean())\n",
    "        else:\n",
    "            # If no data is found in the logger for this time window, append NaN or a default value\n",
    "            voltage_agg.append(None)\n",
    "            current_agg.append(None)\n",
    "            temp_agg.append(None)\n",
    "\n",
    "    # Add the aggregated columns to the command_df\n",
    "    command_df['avg_voltage_V'] = voltage_agg\n",
    "    command_df['avg_current_A'] = current_agg\n",
    "    command_df['avg_temp_C'] = temp_agg\n",
    "\n",
    "    # Add power column\n",
    "    command_df['power_W'] = command_df['avg_voltage_V'] * command_df['avg_current_A']\n",
    "\n",
    "    # Remove not needed columns\n",
    "    command_df = command_df.drop(columns=['client_id', 'command', 'error'])\n",
    "    \n",
    "    return command_df"
   ]
  },
  {
   "cell_type": "code",
   "execution_count": 7,
   "id": "69c2e786-50ac-4df3-bd19-716a090b3f50",
   "metadata": {},
   "outputs": [],
   "source": [
    "merged_df_pt = merge_and_aggregate(command_df_pt, logger_df_pt)\n",
    "merged_df_hailo = merge_and_aggregate(command_df_hailo, logger_df_hailo)"
   ]
  },
  {
   "cell_type": "code",
   "execution_count": 11,
   "id": "84e3bd4a-6802-42b6-8d63-2cabbe5cf8a6",
   "metadata": {},
   "outputs": [],
   "source": [
    "merged_df = pd.concat([merged_df_pt, merged_df_hailo], axis=0)\n",
    "# Export the merged dataset to CSV\n",
    "merged_df.to_csv('merged_dataset.csv', index=False)"
   ]
  },
  {
   "cell_type": "code",
   "execution_count": 9,
   "id": "379217aa-8ef5-4f18-bcf9-aff90b9d1adf",
   "metadata": {},
   "outputs": [],
   "source": [
    "import pandas as pd\n",
    "import matplotlib.pyplot as plt"
   ]
  },
  {
   "cell_type": "code",
   "execution_count": 10,
   "id": "da546ec6-51c2-4446-96cd-723281bc648a",
   "metadata": {},
   "outputs": [],
   "source": [
    "pytorch_df = merged_df[merged_df['framework'] == 'PYTORCH']\n",
    "hailo_df = merged_df[merged_df['framework'] == 'HAILO']"
   ]
  },
  {
   "cell_type": "code",
   "execution_count": 26,
   "id": "91b92588-2466-4174-bd1f-f42e6b8c8eb5",
   "metadata": {},
   "outputs": [],
   "source": [
    "def aggregate_power_by_fps(data):\n",
    "    # Group by fps and model\n",
    "    grouped = data.groupby(['fps', 'model']).agg(\n",
    "        mean_power=('power_W', 'mean')\n",
    "    ).reset_index()\n",
    "    return grouped\n",
    "\n",
    "# Aggregate power consumption for PyTorch\n",
    "pytorch_agg = aggregate_power_by_fps(pytorch_df)\n",
    "\n",
    "# Aggregate power consumption for Hailo\n",
    "hailo_agg = aggregate_power_by_fps(hailo_df)"
   ]
  },
  {
   "cell_type": "code",
   "execution_count": 27,
   "id": "ccc7612d-91f1-4edb-91a1-47815ef77ab5",
   "metadata": {},
   "outputs": [],
   "source": [
    "# Function to plot and save the graphs as PNG\n",
    "def plot_and_save_power_vs_fps(agg_data, framework_name, fps_range, plot_title, file_name):\n",
    "    plt.figure(figsize=(10, 6))\n",
    "\n",
    "    # Filter the data for the given FPS range\n",
    "    filtered_data = agg_data[(agg_data['fps'] >= fps_range[0]) & (agg_data['fps'] <= fps_range[1])]\n",
    "\n",
    "    # Get the list of unique models\n",
    "    models = filtered_data['model'].unique()\n",
    "\n",
    "    # Plot each model\n",
    "    for model in models:\n",
    "        model_data = filtered_data[filtered_data['model'] == model]\n",
    "        plt.plot(model_data['fps'], model_data['mean_power'], marker='o', label=model)\n",
    "\n",
    "    plt.xlabel('FPS (Frames per Second)')\n",
    "    plt.ylabel('Power Consumption (W)')\n",
    "    plt.title(plot_title)\n",
    "    plt.legend(title='Model')\n",
    "    plt.grid(True)\n",
    "\n",
    "    # Save the plot as a PNG file\n",
    "    plt.savefig(file_name, format='png', dpi=300)  # 300 dpi for high resolution\n",
    "    plt.close()  # Close the figure after saving\n",
    "\n",
    "# Define FPS ranges\n",
    "fps_range_1 = (pytorch_agg['fps'].min(), 1)  # From min FPS to 1\n",
    "fps_range_2 = (1, 10)  # From 1 to 10\n",
    "\n",
    "# Save PyTorch plots to PNG\n",
    "plot_and_save_power_vs_fps(pytorch_agg, 'PyTorch', fps_range_1, 'Power Consumption vs FPS (min to 1) for PyTorch', 'pytorch_min_to_1.png')\n",
    "plot_and_save_power_vs_fps(pytorch_agg, 'PyTorch', fps_range_2, 'Power Consumption vs FPS (1 to 10) for PyTorch', 'pytorch_1_to_10.png')\n",
    "\n",
    "# Save Hailo plots to PNG\n",
    "plot_and_save_power_vs_fps(hailo_agg, 'Hailo', fps_range_1, 'Power Consumption vs FPS (min to 1) for Hailo', 'hailo_min_to_1.png')\n",
    "plot_and_save_power_vs_fps(hailo_agg, 'Hailo', fps_range_2, 'Power Consumption vs FPS (1 to 10) for Hailo', 'hailo_1_to_10.png')\n"
   ]
  },
  {
   "cell_type": "code",
   "execution_count": 28,
   "id": "da7960ae-a110-417f-9591-e6bb88a90796",
   "metadata": {},
   "outputs": [],
   "source": [
    "# REDO for new Pytorch Data:\n",
    "\n",
    "new_pt_df = merge_and_aggregate(form_command_df('command_feedback_pt.txt'), form_logger_df('data_logger_pt.txt'))\n",
    "new_pt_df = new_pt_df[new_pt_df['framework'] == 'PYTORCH']\n",
    "new_pt_df.head()\n",
    "pytorch_df = new_pt_df\n",
    "pytorch_agg = aggregate_power_by_fps(pytorch_df)\n",
    "\n",
    "# # Plot for PyTorch, FPS range: min to 1\n",
    "# plot_power_vs_fps(pytorch_agg, 'PyTorch', fps_range_1, 'Power Consumption vs FPS (min to 1) for PyTorch')\n",
    "\n",
    "# # Plot for PyTorch, FPS range: 1 to 10\n",
    "# plot_power_vs_fps(pytorch_agg, 'PyTorch', fps_range_2, 'Power Consumption vs FPS (1 to 10) for PyTorch')\n",
    "\n",
    "# # Plot for Hailo, FPS range: min to 1\n",
    "# plot_power_vs_fps(hailo_agg, 'Hailo', fps_range_1, 'Power Consumption vs FPS (min to 1) for Hailo')\n",
    "\n",
    "# # Plot for Hailo, FPS range: 1 to 10\n",
    "# plot_power_vs_fps(hailo_agg, 'Hailo', fps_range_2, 'Power Consumption vs FPS (1 to 10) for Hailo')"
   ]
  },
  {
   "cell_type": "code",
   "execution_count": 29,
   "id": "9bef3065-36e8-4211-83b4-963d625b850e",
   "metadata": {},
   "outputs": [
    {
     "ename": "FileNotFoundError",
     "evalue": "[Errno 2] No such file or directory: 'command_feedback_pt_mbn.txt'",
     "output_type": "error",
     "traceback": [
      "\u001b[1;31m---------------------------------------------------------------------------\u001b[0m",
      "\u001b[1;31mFileNotFoundError\u001b[0m                         Traceback (most recent call last)",
      "Cell \u001b[1;32mIn[29], line 3\u001b[0m\n\u001b[0;32m      1\u001b[0m \u001b[38;5;66;03m# Redo for MOBILENETV3\u001b[39;00m\n\u001b[1;32m----> 3\u001b[0m pt_mbn_df \u001b[38;5;241m=\u001b[39m merge_and_aggregate(\u001b[43mform_command_df\u001b[49m\u001b[43m(\u001b[49m\u001b[38;5;124;43m'\u001b[39;49m\u001b[38;5;124;43mcommand_feedback_pt_mbn.txt\u001b[39;49m\u001b[38;5;124;43m'\u001b[39;49m\u001b[43m)\u001b[49m, form_logger_df(\u001b[38;5;124m'\u001b[39m\u001b[38;5;124mdata_logger_pt_mbn.txt\u001b[39m\u001b[38;5;124m'\u001b[39m))\n\u001b[0;32m      4\u001b[0m pt_mbn_df \u001b[38;5;241m=\u001b[39m pt_mbn_df[pt_mbn_df[\u001b[38;5;124m'\u001b[39m\u001b[38;5;124mframework\u001b[39m\u001b[38;5;124m'\u001b[39m] \u001b[38;5;241m==\u001b[39m \u001b[38;5;124m'\u001b[39m\u001b[38;5;124mPYTORCH\u001b[39m\u001b[38;5;124m'\u001b[39m]\n\u001b[0;32m      6\u001b[0m \u001b[38;5;66;03m# Replace the MOBILENETV3 data\u001b[39;00m\n",
      "Cell \u001b[1;32mIn[18], line 20\u001b[0m, in \u001b[0;36mform_command_df\u001b[1;34m(command_feedback_file)\u001b[0m\n\u001b[0;32m     17\u001b[0m model_pattern \u001b[38;5;241m=\u001b[39m re\u001b[38;5;241m.\u001b[39mcompile(\u001b[38;5;124mr\u001b[39m\u001b[38;5;124m'\u001b[39m\u001b[38;5;124mrun_model\u001b[39m\u001b[38;5;124m\\\u001b[39m\u001b[38;5;124m.py\u001b[39m\u001b[38;5;124m\\\u001b[39m\u001b[38;5;124ms+([^\u001b[39m\u001b[38;5;124m\\\u001b[39m\u001b[38;5;124ms]+)\u001b[39m\u001b[38;5;124m'\u001b[39m)\n\u001b[0;32m     19\u001b[0m \u001b[38;5;66;03m# Open the file and read line by line\u001b[39;00m\n\u001b[1;32m---> 20\u001b[0m \u001b[38;5;28;01mwith\u001b[39;00m \u001b[38;5;28;43mopen\u001b[39;49m\u001b[43m(\u001b[49m\u001b[43mcommand_feedback_file\u001b[49m\u001b[43m,\u001b[49m\u001b[43m \u001b[49m\u001b[38;5;124;43m'\u001b[39;49m\u001b[38;5;124;43mr\u001b[39;49m\u001b[38;5;124;43m'\u001b[39;49m\u001b[43m)\u001b[49m \u001b[38;5;28;01mas\u001b[39;00m file:\n\u001b[0;32m     21\u001b[0m     \u001b[38;5;28;01mfor\u001b[39;00m line \u001b[38;5;129;01min\u001b[39;00m file:\n\u001b[0;32m     22\u001b[0m         \u001b[38;5;66;03m# Parse each line as a JSON object\u001b[39;00m\n\u001b[0;32m     23\u001b[0m         command_data \u001b[38;5;241m=\u001b[39m json\u001b[38;5;241m.\u001b[39mloads(line\u001b[38;5;241m.\u001b[39mstrip())\n",
      "File \u001b[1;32mS:\\Projects\\Programming\\GitHubRep\\rp5-image-classification-benchmark\\postprocessing\\venv\\Lib\\site-packages\\IPython\\core\\interactiveshell.py:324\u001b[0m, in \u001b[0;36m_modified_open\u001b[1;34m(file, *args, **kwargs)\u001b[0m\n\u001b[0;32m    317\u001b[0m \u001b[38;5;28;01mif\u001b[39;00m file \u001b[38;5;129;01min\u001b[39;00m {\u001b[38;5;241m0\u001b[39m, \u001b[38;5;241m1\u001b[39m, \u001b[38;5;241m2\u001b[39m}:\n\u001b[0;32m    318\u001b[0m     \u001b[38;5;28;01mraise\u001b[39;00m \u001b[38;5;167;01mValueError\u001b[39;00m(\n\u001b[0;32m    319\u001b[0m         \u001b[38;5;124mf\u001b[39m\u001b[38;5;124m\"\u001b[39m\u001b[38;5;124mIPython won\u001b[39m\u001b[38;5;124m'\u001b[39m\u001b[38;5;124mt let you open fd=\u001b[39m\u001b[38;5;132;01m{\u001b[39;00mfile\u001b[38;5;132;01m}\u001b[39;00m\u001b[38;5;124m by default \u001b[39m\u001b[38;5;124m\"\u001b[39m\n\u001b[0;32m    320\u001b[0m         \u001b[38;5;124m\"\u001b[39m\u001b[38;5;124mas it is likely to crash IPython. If you know what you are doing, \u001b[39m\u001b[38;5;124m\"\u001b[39m\n\u001b[0;32m    321\u001b[0m         \u001b[38;5;124m\"\u001b[39m\u001b[38;5;124myou can use builtins\u001b[39m\u001b[38;5;124m'\u001b[39m\u001b[38;5;124m open.\u001b[39m\u001b[38;5;124m\"\u001b[39m\n\u001b[0;32m    322\u001b[0m     )\n\u001b[1;32m--> 324\u001b[0m \u001b[38;5;28;01mreturn\u001b[39;00m \u001b[43mio_open\u001b[49m\u001b[43m(\u001b[49m\u001b[43mfile\u001b[49m\u001b[43m,\u001b[49m\u001b[43m \u001b[49m\u001b[38;5;241;43m*\u001b[39;49m\u001b[43margs\u001b[49m\u001b[43m,\u001b[49m\u001b[43m \u001b[49m\u001b[38;5;241;43m*\u001b[39;49m\u001b[38;5;241;43m*\u001b[39;49m\u001b[43mkwargs\u001b[49m\u001b[43m)\u001b[49m\n",
      "\u001b[1;31mFileNotFoundError\u001b[0m: [Errno 2] No such file or directory: 'command_feedback_pt_mbn.txt'"
     ]
    }
   ],
   "source": [
    "# Redo for MOBILENETV3\n",
    "\n",
    "pt_mbn_df = merge_and_aggregate(form_command_df('command_feedback_pt_mbn.txt'), form_logger_df('data_logger_pt_mbn.txt'))\n",
    "pt_mbn_df = pt_mbn_df[pt_mbn_df['framework'] == 'PYTORCH']\n",
    "\n",
    "# Replace the MOBILENETV3 data\n",
    "pytorch_df = pytorch_df.drop(pytorch_df[pytorch_df['model'] == 'MOBILENETV3'].index)\n",
    "pytorch_df = pd.concat([pytorch_df, pt_mbn_df], ignore_index=True)\n",
    "pytorch_agg = aggregate_power_by_fps(pytorch_df)"
   ]
  },
  {
   "cell_type": "code",
   "execution_count": null,
   "id": "1a68f113-de1f-4f80-8d44-c9d3649d74a1",
   "metadata": {},
   "outputs": [],
   "source": [
    "# Save PyTorch plots to PNG\n",
    "plot_and_save_power_vs_fps(pytorch_agg, 'PyTorch', fps_range_1, 'Power Consumption vs FPS (0.1 to 1) for PyTorch', 'pytorch_min_to_1.png')\n",
    "plot_and_save_power_vs_fps(pytorch_agg, 'PyTorch', fps_range_2, 'Power Consumption vs FPS (1 to 10) for PyTorch', 'pytorch_1_to_10.png')\n",
    "\n",
    "# Save Hailo plots to PNG\n",
    "plot_and_save_power_vs_fps(hailo_agg, 'Hailo', fps_range_1, 'Power Consumption vs FPS (0.1 to 1) for Hailo', 'hailo_min_to_1.png')\n",
    "plot_and_save_power_vs_fps(hailo_agg, 'Hailo', fps_range_2, 'Power Consumption vs FPS (1 to 10) for Hailo', 'hailo_1_to_10.png')\n"
   ]
  },
  {
   "cell_type": "code",
   "execution_count": null,
   "id": "a86b106d-d6bc-4dd1-9a79-a1a7846a5fc4",
   "metadata": {},
   "outputs": [],
   "source": [
    "final_df = pd.concat([hailo_df, pytorch_df], ignore_index=True)\n",
    "final_df = final_df.sort_values(by=['model', 'framework', 'start_time']).reset_index(drop=True)\n",
    "final_df.to_csv('final_df.csv')\n"
   ]
  },
  {
   "cell_type": "code",
   "execution_count": null,
   "id": "6a3f33b6-1abb-40f6-9acf-e6adf166094d",
   "metadata": {},
   "outputs": [],
   "source": []
  }
 ],
 "metadata": {
  "kernelspec": {
   "display_name": "Python 3 (ipykernel)",
   "language": "python",
   "name": "python3"
  },
  "language_info": {
   "codemirror_mode": {
    "name": "ipython",
    "version": 3
   },
   "file_extension": ".py",
   "mimetype": "text/x-python",
   "name": "python",
   "nbconvert_exporter": "python",
   "pygments_lexer": "ipython3",
   "version": "3.11.3"
  }
 },
 "nbformat": 4,
 "nbformat_minor": 5
}
